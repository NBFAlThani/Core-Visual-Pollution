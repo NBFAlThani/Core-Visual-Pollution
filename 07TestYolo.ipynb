{
 "cells": [
  {
   "cell_type": "code",
   "execution_count": 1,
   "id": "4e1d9561",
   "metadata": {},
   "outputs": [],
   "source": [
    "import os"
   ]
  },
  {
   "cell_type": "code",
   "execution_count": 2,
   "id": "c8cd1fad",
   "metadata": {},
   "outputs": [
    {
     "data": {
      "text/plain": [
       "['yolov5',\n",
       " 'FreeMono.ttf',\n",
       " '06TrainYolo.ipynb',\n",
       " '07TestYolo.ipynb',\n",
       " '.DS_Store',\n",
       " '04DataSplitting.ipynb',\n",
       " 'dataRoad.yaml',\n",
       " '03CheckAnnotations.ipynb',\n",
       " '02MakeAnnotations.ipynb',\n",
       " 'dataset',\n",
       " 'CreateAnnotations.ipynb',\n",
       " '01CheckGivenBoundingBoxes.ipynb',\n",
       " '05GetInstallYolo.ipynb',\n",
       " '.ipynb_checkpoints']"
      ]
     },
     "execution_count": 2,
     "metadata": {},
     "output_type": "execute_result"
    }
   ],
   "source": [
    "os.listdir()"
   ]
  },
  {
   "cell_type": "code",
   "execution_count": 6,
   "id": "b9bbe1c2",
   "metadata": {},
   "outputs": [
    {
     "name": "stdout",
     "output_type": "stream",
     "text": [
      "\u001b[34m\u001b[1mdetect: \u001b[0mweights=['yolov5/runs/train/RoadTrainModel_m_100/weights/best.pt'], source=dataset/just_test/, data=yolov5/data/coco128.yaml, imgsz=[640, 640], conf_thres=0.25, iou_thres=0.45, max_det=1000, device=, view_img=False, save_txt=False, save_conf=False, save_crop=False, nosave=False, classes=None, agnostic_nms=False, augment=False, visualize=False, update=False, project=yolov5/runs/detect, name=RoadTestModel, exist_ok=False, line_thickness=3, hide_labels=False, hide_conf=False, half=False, dnn=False, vid_stride=1\n",
      "fatal: cannot change to '/home/linux/Desktop/Smartathon/Problem': No such file or directory\n",
      "YOLOv5 🚀 2023-1-12 Python-3.8.15 torch-1.13.1 CUDA:0 (NVIDIA GeForce RTX 2080 with Max-Q Design, 7966MiB)\n",
      "\n",
      "Fusing layers... \n",
      "YOLOv5m summary: 212 layers, 20893344 parameters, 0 gradients, 48.0 GFLOPs\n",
      "image 1/5 /home/linux/Desktop/Smartathon/Problem 1/dataset/just_test/e59b6f71df05b7ff01458c65f587e89d.jpg: 384x640 3 2.0s, 14.4ms\n",
      "image 2/5 /home/linux/Desktop/Smartathon/Problem 1/dataset/just_test/ee661d1354993d0de97728aa4eb61d84.jpg: 384x640 4 2.0s, 11.5ms\n",
      "image 3/5 /home/linux/Desktop/Smartathon/Problem 1/dataset/just_test/f44bea67dd5c663b891f1864d357f244.jpg: 384x640 1 2.0, 11.5ms\n",
      "image 4/5 /home/linux/Desktop/Smartathon/Problem 1/dataset/just_test/fb3ab7a23f98bd3c884b7b77e3deb2f0.jpg: 384x640 2 3.0s, 11.5ms\n",
      "image 5/5 /home/linux/Desktop/Smartathon/Problem 1/dataset/just_test/ff85546960e83624cdd73c6e12bb42aa.jpg: 384x640 4 0.0s, 11.5ms\n",
      "Speed: 0.4ms pre-process, 12.0ms inference, 1.5ms NMS per image at shape (1, 3, 640, 640)\n",
      "Results saved to \u001b[1myolov5/runs/detect/RoadTestModel5\u001b[0m\n"
     ]
    }
   ],
   "source": [
    "! python yolov5/detect.py --source dataset/just_test/ --weights yolov5/runs/train/RoadTrainModel_m_100/weights/best.pt --conf 0.25 --name RoadTestModel"
   ]
  },
  {
   "cell_type": "code",
   "execution_count": 10,
   "id": "65202188",
   "metadata": {},
   "outputs": [],
   "source": [
    "import pandas as pd"
   ]
  },
  {
   "cell_type": "code",
   "execution_count": null,
   "id": "a4cdba86",
   "metadata": {},
   "outputs": [],
   "source": []
  }
 ],
 "metadata": {
  "kernelspec": {
   "display_name": "SmartathonKernel",
   "language": "python",
   "name": "smartathonkernel"
  },
  "language_info": {
   "codemirror_mode": {
    "name": "ipython",
    "version": 3
   },
   "file_extension": ".py",
   "mimetype": "text/x-python",
   "name": "python",
   "nbconvert_exporter": "python",
   "pygments_lexer": "ipython3",
   "version": "3.9.15"
  }
 },
 "nbformat": 4,
 "nbformat_minor": 5
}
