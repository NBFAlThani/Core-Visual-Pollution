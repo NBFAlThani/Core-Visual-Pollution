{
 "cells": [
  {
   "cell_type": "code",
   "execution_count": 1,
   "id": "2947ea48",
   "metadata": {},
   "outputs": [],
   "source": [
    "import os\n",
    "from sklearn.model_selection import train_test_split\n",
    "import shutil"
   ]
  },
  {
   "cell_type": "code",
   "execution_count": null,
   "id": "b50f8497",
   "metadata": {},
   "outputs": [],
   "source": []
  },
  {
   "cell_type": "code",
   "execution_count": null,
   "id": "9659a1c6",
   "metadata": {},
   "outputs": [],
   "source": []
  },
  {
   "cell_type": "code",
   "execution_count": null,
   "id": "47873665",
   "metadata": {},
   "outputs": [],
   "source": []
  },
  {
   "cell_type": "code",
   "execution_count": 2,
   "id": "d68f1082",
   "metadata": {},
   "outputs": [
    {
     "name": "stdout",
     "output_type": "stream",
     "text": [
      "Number of images 7874 \n",
      "Number of annotation files 7874\n"
     ]
    }
   ],
   "source": [
    "# Read images and annotations\n",
    "images = [os.path.join('dataset/train_images', x) for x in os.listdir('dataset/train_images')]\n",
    "annotations = [os.path.join('dataset/annotations_all', x) for x in os.listdir('dataset/annotations_all') if x[-3:] == \"txt\"]\n",
    "\n",
    "images.sort()\n",
    "annotations.sort()\n",
    "\n",
    "print(\"Number of images\",len(images),\"\\nNumber of annotation files\",len(annotations))"
   ]
  },
  {
   "cell_type": "code",
   "execution_count": 3,
   "id": "936f803a",
   "metadata": {},
   "outputs": [],
   "source": [
    "# Split the dataset into train-valid-test splits \n",
    "train_images, val_images, train_annotations, val_annotations = train_test_split(images, annotations, test_size = 0.2, random_state = 1)\n",
    "val_images, test_images, val_annotations, test_annotations = train_test_split(val_images, val_annotations, test_size = 0.5, random_state = 1)\n"
   ]
  },
  {
   "cell_type": "code",
   "execution_count": 4,
   "id": "fb30acf7",
   "metadata": {},
   "outputs": [
    {
     "name": "stdout",
     "output_type": "stream",
     "text": [
      "Training: 6299 ;Validation:  787 ;Test: 788\n"
     ]
    }
   ],
   "source": [
    "print(\"Training:\",len(train_images),\";Validation: \",len(val_images),\";Test:\",len(test_images))"
   ]
  },
  {
   "cell_type": "markdown",
   "id": "23a8203b",
   "metadata": {},
   "source": [
    "### Creating the folders"
   ]
  },
  {
   "cell_type": "code",
   "execution_count": 5,
   "id": "19f08830",
   "metadata": {},
   "outputs": [],
   "source": [
    "\n",
    "\n",
    "if not os.path.isdir(\"dataset/finalRoad\"):\n",
    "    os.mkdir(\"dataset/finalRoad\")\n",
    "\n",
    "if not os.path.isdir(\"dataset/finalRoad/images\"):\n",
    "    os.mkdir(\"dataset/finalRoad/images\")\n",
    "\n",
    "    \n",
    "if not os.path.isdir(\"dataset/finalRoad/labels\"):\n",
    "    os.mkdir(\"dataset/finalRoad/labels\")\n",
    "    \n",
    "\n",
    "if not os.path.isdir(\"dataset/finalRoad/images/train\"):\n",
    "    os.mkdir(\"dataset/finalRoad/images/train\")\n",
    "\n",
    "if not os.path.isdir(\"dataset/finalRoad/images/val\"):\n",
    "    os.mkdir(\"dataset/finalRoad/images/val\")\n",
    "\n",
    "if not os.path.isdir(\"dataset/finalRoad/images/test\"):\n",
    "    os.mkdir(\"dataset/finalRoad/images/test\")\n",
    "    \n",
    "    \n",
    "if not os.path.isdir(\"dataset/finalRoad/labels/train\"):\n",
    "    os.mkdir(\"dataset/finalRoad/labels/train\")\n",
    "\n",
    "if not os.path.isdir(\"dataset/finalRoad/labels/val\"):\n",
    "    os.mkdir(\"dataset/finalRoad/labels/val\")\n",
    "\n",
    "if not os.path.isdir(\"dataset/finalRoad/labels/test\"):\n",
    "    os.mkdir(\"dataset/finalRoad/labels/test\")"
   ]
  },
  {
   "cell_type": "code",
   "execution_count": 6,
   "id": "a4fa56d4",
   "metadata": {},
   "outputs": [],
   "source": [
    "\n",
    "#Utility function to move images \n",
    "def move_files_to_folder(list_of_files, destination_folder):\n",
    "    for f in list_of_files:\n",
    "#         print(f,destination_folder)\n",
    "        try:\n",
    "            shutil.copy(f, destination_folder)\n",
    "        except:\n",
    "            pass\n",
    "            # print(f,\"Already there\")\n",
    "            # assert False\n",
    "\n",
    "# Move the splits into their folders\n",
    "move_files_to_folder(train_images, 'dataset/finalRoad/images/train/')\n",
    "move_files_to_folder(val_images, 'dataset/finalRoad/images/val/')\n",
    "move_files_to_folder(test_images, 'dataset/finalRoad/images/test/')\n",
    "move_files_to_folder(train_annotations, 'dataset/finalRoad/labels/train/')\n",
    "move_files_to_folder(val_annotations, 'dataset/finalRoad/labels/val/')\n",
    "move_files_to_folder(test_annotations, 'dataset/finalRoad/labels/test/')"
   ]
  },
  {
   "cell_type": "code",
   "execution_count": 7,
   "id": "4639b4d9",
   "metadata": {},
   "outputs": [
    {
     "name": "stdout",
     "output_type": "stream",
     "text": [
      "Number of train images =  6299\n",
      "Number of train annotations =  6299\n",
      "Number of val images =  787\n",
      "Number of val annotations =  787\n",
      "Number of test images =  788\n",
      "Number of test annotations =  788\n"
     ]
    }
   ],
   "source": [
    "print(\"Number of train images = \",len(os.listdir(\"dataset/finalRoad/images/train/\")))\n",
    "print(\"Number of train annotations = \",len(os.listdir(\"dataset/finalRoad/labels/train/\")))\n",
    "\n",
    "print(\"Number of val images = \",len(os.listdir(\"dataset/finalRoad/images/val/\")))\n",
    "print(\"Number of val annotations = \",len(os.listdir(\"dataset/finalRoad/labels/val/\")))\n",
    "\n",
    "print(\"Number of test images = \",len(os.listdir(\"dataset/finalRoad/images/test/\")))\n",
    "print(\"Number of test annotations = \",len(os.listdir(\"dataset/finalRoad/labels/test/\")))"
   ]
  },
  {
   "cell_type": "code",
   "execution_count": null,
   "id": "5e55801d",
   "metadata": {},
   "outputs": [],
   "source": []
  },
  {
   "cell_type": "code",
   "execution_count": null,
   "id": "215567f3",
   "metadata": {},
   "outputs": [],
   "source": []
  }
 ],
 "metadata": {
  "kernelspec": {
   "display_name": "SmartathonKernel",
   "language": "python",
   "name": "smartathonkernel"
  },
  "language_info": {
   "codemirror_mode": {
    "name": "ipython",
    "version": 3
   },
   "file_extension": ".py",
   "mimetype": "text/x-python",
   "name": "python",
   "nbconvert_exporter": "python",
   "pygments_lexer": "ipython3",
   "version": "3.9.15"
  }
 },
 "nbformat": 4,
 "nbformat_minor": 5
}
